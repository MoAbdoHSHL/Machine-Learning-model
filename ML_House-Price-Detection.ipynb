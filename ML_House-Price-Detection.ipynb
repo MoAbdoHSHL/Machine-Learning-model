{
 "cells": [
  {
   "cell_type": "markdown",
   "metadata": {},
   "source": [
    "# 🏡 🤖✨\n",
    "# California House Price Prediction using Linear Regression\n",
    "\n",
    "This project demonstrates how to build a simple **machine learning model** to predict house prices using the **California Housing Dataset** provided by `scikit-learn`.\n",
    "\n",
    "It is working as following:\n",
    "- Load and explore real-world housing data\n",
    "- Use **Linear Regression** to model the relationship between features (income, age, rooms,..) and house prices\n",
    "- Evaluate the model's performance using metrics like **Mean Squared Error (MSE)** and **R² score**\n",
    "(( **R² score**:coefficient of determination that tells you how much variance in the target variable your model explains.))\n",
    "- **MSE**: The smaller the MSE, the better the model's predictions are (closer to actual values).\n",
    "- **R²**: The closer R² is to 1, the better the model explains the variation in the data.\n",
    "\n",
    "- If the dots are close to the line, the MSE is low, and the R² is high.\n",
    "- If the dots are far from the line, the MSE is high, and the R² is low.\n",
    "- Visualize the relationship between actual and predicted prices\n"
   ]
  },
  {
   "cell_type": "code",
   "execution_count": 29,
   "metadata": {},
   "outputs": [],
   "source": [
    "\n",
    "import pandas as pd\n",
    "import matplotlib.pyplot as plt\n",
    "from sklearn.datasets import fetch_california_housing\n",
    "from sklearn.model_selection import train_test_split\n",
    "from sklearn.linear_model import LinearRegression\n",
    "from sklearn.metrics import mean_squared_error, r2_score"
   ]
  },
  {
   "cell_type": "markdown",
   "metadata": {},
   "source": [
    " ## 📥 Load and Prepare Data\n",
    "\n",
    "We load the dataset and convert it to a pandas DataFrame for easier handling.\n"
   ]
  },
  {
   "cell_type": "code",
   "execution_count": null,
   "metadata": {},
   "outputs": [],
   "source": [
    "# Load the California Housing dataset\n",
    "data = fetch_california_housing()\n",
    "\n",
    "# Convert to DataFrame\n",
    "df = pd.DataFrame(data.data, columns=data.feature_names)\n",
    "df['MedianHouseValue'] = data.target\n",
    "\n",
    "# Show first few rows\n",
    "df.head()"
   ]
  },
  {
   "cell_type": "markdown",
   "metadata": {},
   "source": [
    "## 📊 Visualize the Data\n",
    "\n",
    "Let's see how **Median Income** affects **House Prices**."
   ]
  },
  {
   "cell_type": "code",
   "execution_count": null,
   "metadata": {},
   "outputs": [],
   "source": [
    "plt.scatter(df['MedInc'], df['MedianHouseValue'], alpha=0.3)\n",
    "plt.xlabel('Median Income')\n",
    "plt.ylabel('Median House Value')\n",
    "plt.title('Income vs House Price')\n",
    "plt.grid(True)\n",
    "plt.show()"
   ]
  },
  {
   "cell_type": "markdown",
   "metadata": {},
   "source": [
    "## 🧪 Prepare Training and Testing Data\n",
    "\n",
    "We separate the features (`X`) and the target (`y`), then split the dataset into training and testing sets.\n"
   ]
  },
  {
   "cell_type": "code",
   "execution_count": 32,
   "metadata": {},
   "outputs": [],
   "source": [
    "X = df.drop('MedianHouseValue', axis=1)  # Features\n",
    "y = df['MedianHouseValue']               # Target\n",
    "\n",
    "# Split into train/test\n",
    "X_train, X_test, y_train, y_test = train_test_split(X, y, test_size=0.2, random_state=42)"
   ]
  },
  {
   "cell_type": "markdown",
   "metadata": {},
   "source": [
    "## 🧠 Train the Model\n",
    "\n",
    "We train a **Linear Regression** model using the training data."
   ]
  },
  {
   "cell_type": "code",
   "execution_count": null,
   "metadata": {},
   "outputs": [],
   "source": [
    "model = LinearRegression()\n",
    "model.fit(X_train, y_train)"
   ]
  },
  {
   "cell_type": "markdown",
   "metadata": {},
   "source": [
    "## 📈 Make Predictions\n",
    "\n",
    "We use the trained model to predict house prices on the test set."
   ]
  },
  {
   "cell_type": "code",
   "execution_count": 34,
   "metadata": {},
   "outputs": [],
   "source": [
    "y_pred = model.predict(X_test)"
   ]
  },
  {
   "cell_type": "markdown",
   "metadata": {},
   "source": [
    "## 🧮 Evaluate the Model\n",
    "\n",
    "We check the model’s performance using:\n",
    "- **Mean Squared Error (MSE)**\n",
    "- **R² Score**"
   ]
  },
  {
   "cell_type": "code",
   "execution_count": null,
   "metadata": {},
   "outputs": [],
   "source": [
    "mse = mean_squared_error(y_test, y_pred)\n",
    "r2 = r2_score(y_test, y_pred)\n",
    "\n",
    "print(f\"Mean Squared Error: {mse:.2f}\")\n",
    "print(f\"R² Score: {r2:.2f}\")"
   ]
  },
  {
   "cell_type": "markdown",
   "metadata": {},
   "source": [
    "## 🖼️ Visualize Predictions\n",
    "\n",
    "Compare actual vs predicted prices to see how well the model performs."
   ]
  },
  {
   "cell_type": "code",
   "execution_count": null,
   "metadata": {},
   "outputs": [],
   "source": [
    "plt.figure(figsize=(6,6))\n",
    "plt.scatter(y_test, y_pred, alpha=0.3, color='teal')\n",
    "plt.xlabel('Actual Price')\n",
    "plt.ylabel('Predicted Price')\n",
    "plt.title('Actual vs Predicted House Prices')\n",
    "plt.plot([0, 5], [0, 5], 'r--')  # 45-degree line\n",
    "plt.grid(True)\n",
    "plt.show()"
   ]
  },
  {
   "cell_type": "markdown",
   "metadata": {},
   "source": [
    "# 🧾 Enter custom house features manually\n",
    "### House Price Prediction Formula\n",
    "\n",
    "The formula to predict the house price using the linear regression model is:\n",
    "\n",
    "\n",
    "**text{Predicted Price} = w_1 \\times \\text{MedInc} + w_2 \\times \\text{HouseAge} + \\dots + w_8 \\times \\text{Longitude} + b**\n",
    "\n",
    "Where:\n",
    "- \\( w_1, w_2, \\dots, w_8 \\) are the learned **coefficients** for each feature (Ex., **Median Income**, **House Age**, etc.).\n",
    "- \\( b \\) is the **intercept** term (the constant added to the prediction).\n",
    "- **MedInc, HouseAge, Longitude, etc.** are the input features (the values you provide for each feature).\n",
    "\n"
   ]
  },
  {
   "cell_type": "code",
   "execution_count": null,
   "metadata": {},
   "outputs": [],
   "source": [
    "print(\"🔢 Enter the values for the following features:\")\n",
    "\n",
    "MedInc = float(input(\"Median Income (Ex: 8.0): \"))\n",
    "HouseAge = float(input(\"House Age in years (Ex: 30): \"))\n",
    "AveRooms = float(input(\"Average number of rooms (Ex: 6): \"))\n",
    "AveBedrms = float(input(\"Average number of bedrooms (Ex: 1): \"))\n",
    "Population = float(input(\"Population in the area (Ex: 1000): \"))\n",
    "AveOccup = float(input(\"Average Occupancy (Ex: 3): \"))\n",
    "Latitude = float(input(\"Latitude (Ex: 34.0): \"))\n",
    "Longitude = float(input(\"Longitude (Ex: -118.0): \"))\n",
    "\n",
    "# 📦 Create DataFrame for prediction\n",
    "custom_input = pd.DataFrame([{\n",
    "    'MedInc': MedInc,         #Median income in the area (in thousands of dollars).\n",
    "    'HouseAge': HouseAge,     #Median age of houses in the area.\n",
    "    'AveRooms': AveRooms,     #Average number of rooms per household.\n",
    "    'AveBedrms': AveBedrms,   #Average number of bedrooms per household.\n",
    "    'Population': Population, #Total population in the area.\n",
    "    'AveOccup': AveOccup,     #Average number of people per household.\n",
    "    'Latitude': Latitude,     #Latitude of the area. <__>\n",
    "    'Longitude': Longitude    #Longitude of the area. <|>\n",
    "\n",
    "}])\n",
    "\n",
    "# 🔮 Predict price\n",
    "predicted_price = model.predict(custom_input)[0]\n",
    "print(f\"\\n💰 Predicted House Price: ${predicted_price * 100000:.2f}\")\n"
   ]
  },
  {
   "cell_type": "code",
   "execution_count": 38,
   "metadata": {},
   "outputs": [],
   "source": [
    "import pickle\n",
    "\n",
    "# Save Model to Pickle\n",
    "with open('model.pkl', 'wb') as f:\n",
    "    pickle.dump(model, f)\n"
   ]
  }
 ],
 "metadata": {
  "kernelspec": {
   "display_name": "Python 3",
   "language": "python",
   "name": "python3"
  },
  "language_info": {
   "codemirror_mode": {
    "name": "ipython",
    "version": 3
   },
   "file_extension": ".py",
   "mimetype": "text/x-python",
   "name": "python",
   "nbconvert_exporter": "python",
   "pygments_lexer": "ipython3",
   "version": "3.10.0"
  }
 },
 "nbformat": 4,
 "nbformat_minor": 2
}
